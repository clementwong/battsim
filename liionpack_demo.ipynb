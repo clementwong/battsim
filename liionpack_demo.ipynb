{
 "cells": [
  {
   "cell_type": "markdown",
   "metadata": {},
   "source": [
    "# Liionpack demo\n",
    "\n",
    "Andrew Weng\n",
    "\n",
    "March 10, 2022"
   ]
  },
  {
   "cell_type": "code",
   "execution_count": null,
   "metadata": {},
   "outputs": [],
   "source": [
    "import liionpack as lp\n",
    "import pybamm\n",
    "import numpy as np"
   ]
  },
  {
   "cell_type": "markdown",
   "metadata": {},
   "source": [
    "## Configure the parameters and define the netlist"
   ]
  },
  {
   "cell_type": "code",
   "execution_count": null,
   "metadata": {},
   "outputs": [],
   "source": [
    "\n",
    "I_mag = 5.0\n",
    "OCV_init = 4.0  # used for intial guess\n",
    "Ri_init = 5e-2  # used for intial guess\n",
    "R_busbar = 1.5e-3\n",
    "R_connection = 1e-2\n",
    "Np = 4\n",
    "Ns = 2\n",
    "Nbatt = Np * Ns\n",
    "netlist = lp.setup_circuit(\n",
    "    Np=Np, Ns=Ns, Rb=R_busbar, Rc=R_connection, Ri=Ri_init, V=OCV_init, I=I_mag\n",
    ")\n"
   ]
  },
  {
   "cell_type": "code",
   "execution_count": null,
   "metadata": {},
   "outputs": [],
   "source": [
    "print(netlist)\n",
    "\n",
    "lp.draw_circuit(netlist, cpt_size=1.0, dpi=150, node_spacing=2.5)\n",
    "\n"
   ]
  },
  {
   "cell_type": "markdown",
   "metadata": {},
   "source": [
    "## Set up the experiment"
   ]
  },
  {
   "cell_type": "code",
   "execution_count": null,
   "metadata": {},
   "outputs": [],
   "source": [
    "\n",
    "experiment = pybamm.Experiment(\n",
    "    [\n",
    "        \"Charge at 5 A for 30 minutes\",\n",
    "        \"Rest for 15 minutes\",\n",
    "        \"Discharge at 5 A for 30 minutes\",\n",
    "        \"Rest for 15 minutes\",\n",
    "    ],\n",
    "    period=\"10 seconds\",\n",
    ")\n",
    "\n"
   ]
  },
  {
   "cell_type": "markdown",
   "metadata": {},
   "source": [
    "### Initialize the parameter set"
   ]
  },
  {
   "cell_type": "code",
   "execution_count": null,
   "metadata": {},
   "outputs": [],
   "source": [
    "\n",
    "chemistry = pybamm.parameter_sets.Chen2020\n",
    "parameter_values = pybamm.ParameterValues(chemistry=chemistry)\n",
    "\n"
   ]
  },
  {
   "cell_type": "markdown",
   "metadata": {},
   "source": [
    "### Initialize the battery model"
   ]
  },
  {
   "cell_type": "code",
   "execution_count": null,
   "metadata": {},
   "outputs": [],
   "source": [
    "SPMe = pybamm.models.full_battery_models.lithium_ion.SPMe()"
   ]
  },
  {
   "cell_type": "code",
   "execution_count": null,
   "metadata": {},
   "outputs": [],
   "source": [
    "SPMe.variable_names()[:10]"
   ]
  },
  {
   "cell_type": "code",
   "execution_count": null,
   "metadata": {},
   "outputs": [],
   "source": [
    "SPMe.variables.search(\"X-averaged\")"
   ]
  },
  {
   "cell_type": "code",
   "execution_count": null,
   "metadata": {},
   "outputs": [],
   "source": [
    "output_variables = [\n",
    "    \"X-averaged negative particle surface concentration [mol.m-3]\",\n",
    "    \"X-averaged positive particle surface concentration [mol.m-3]\",\n",
    "]"
   ]
  },
  {
   "cell_type": "markdown",
   "metadata": {},
   "source": [
    "## Run the solver"
   ]
  },
  {
   "cell_type": "code",
   "execution_count": null,
   "metadata": {},
   "outputs": [],
   "source": [
    "output = lp.solve(\n",
    "    netlist=netlist,\n",
    "    parameter_values=parameter_values,\n",
    "    experiment=experiment,\n",
    "    output_variables=output_variables,\n",
    "    initial_soc=0.5\n",
    ")"
   ]
  },
  {
   "cell_type": "markdown",
   "metadata": {},
   "source": [
    "## Plot the outputs"
   ]
  },
  {
   "cell_type": "code",
   "execution_count": null,
   "metadata": {},
   "outputs": [],
   "source": [
    "lp.plot_output(output)\n"
   ]
  }
 ],
 "metadata": {
  "language_info": {
   "name": "python"
  },
  "orig_nbformat": 4
 },
 "nbformat": 4,
 "nbformat_minor": 2
}
